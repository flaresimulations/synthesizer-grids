{
 "cells": [
  {
   "attachments": {},
   "cell_type": "markdown",
   "id": "659dcb3a-891b-4271-9073-d02efbeb14d5",
   "metadata": {},
   "source": [
    "# Comparing grids\n",
    "\n",
    "This example allows us to compare two HDF5 grid files"
   ]
  },
  {
   "cell_type": "code",
   "execution_count": 1,
   "id": "79c4459f-4b18-43dd-922f-f20ad58bbfd6",
   "metadata": {
    "tags": []
   },
   "outputs": [],
   "source": [
    "import numpy as np\n",
    "import h5py\n",
    "import matplotlib.pyplot as plt"
   ]
  },
  {
   "cell_type": "code",
   "execution_count": 2,
   "id": "d4c139d9-a589-425f-9a69-736b82f96e65",
   "metadata": {
    "tags": []
   },
   "outputs": [],
   "source": [
    "grid_dir = \"/Users/sw376/Dropbox/Research/data/synthesizer/grids\"\n",
    "\n",
    "grid_name1 = \"bc03_chabrier03-0.1,100_v0.1\"\n",
    "grid_name2 = \"bc03_chabrier03-0.1,100\""
   ]
  },
  {
   "attachments": {},
   "cell_type": "markdown",
   "id": "16d19411",
   "metadata": {},
   "source": [
    "#### With h5py\n",
    "##### top-level attributes"
   ]
  },
  {
   "cell_type": "code",
   "execution_count": 4,
   "id": "c659dba2",
   "metadata": {},
   "outputs": [
    {
     "name": "stdout",
     "output_type": "stream",
     "text": [
      "alpha False\n",
      "axes ['log10age' 'metallicity']\n",
      "date 2023-10-27\n",
      "imf_masses [  0.1 100. ]\n",
      "imf_slopes False\n",
      "imf_type chabrier03\n",
      "sps_name bc03\n",
      "sps_variant False\n",
      "sps_version False\n",
      "synthesizer-grids_tag 1.0.0\n",
      "--------------------------------------------------\n",
      "alpha False\n",
      "axes ['log10age' 'metallicity']\n",
      "date 2023-10-27\n",
      "imf_masses [  0.1 100. ]\n",
      "imf_slopes False\n",
      "imf_type chabrier03\n",
      "sps_name bc03\n",
      "sps_variant False\n",
      "sps_version False\n",
      "synthesizer-grids_tag 1.0.0\n"
     ]
    }
   ],
   "source": [
    "grid1 = h5py.File(f\"{grid_dir}/{grid_name1}.hdf5\")\n",
    "grid2 = h5py.File(f\"{grid_dir}/{grid_name2}.hdf5\")\n",
    "\n",
    "\n",
    "for k, v in grid1.attrs.items():\n",
    "    print(k, v)\n",
    "\n",
    "print(\"-\" * 50)\n",
    "\n",
    "for k, v in grid2.attrs.items():\n",
    "    print(k, v)"
   ]
  },
  {
   "cell_type": "code",
   "execution_count": 8,
   "id": "2acb962d",
   "metadata": {},
   "outputs": [
    {
     "data": {
      "image/png": "[encoded data removed]",
      "text/plain": [
       "<Figure size 640x480 with 1 Axes>"
      ]
     },
     "metadata": {},
     "output_type": "display_data"
    }
   ],
   "source": [
    "plt.imshow(grid1[\"specific_ionising_luminosity/HI\"][()])\n",
    "plt.show()"
   ]
  },
  {
   "attachments": {},
   "cell_type": "markdown",
   "id": "4f58f23f",
   "metadata": {},
   "source": [
    "##### Compare specific_ionising_luminosity"
   ]
  },
  {
   "cell_type": "code",
   "execution_count": 7,
   "id": "e45b6eac",
   "metadata": {},
   "outputs": [
    {
     "name": "stdout",
     "output_type": "stream",
     "text": [
      "(221, 6)\n",
      "0.0\n"
     ]
    },
    {
     "data": {
      "image/png": "[encoded data removed]",
      "text/plain": [
       "<Figure size 640x480 with 1 Axes>"
      ]
     },
     "metadata": {},
     "output_type": "display_data"
    }
   ],
   "source": [
    "R = (\n",
    "    grid2[\"specific_ionising_luminosity/HI\"][()]\n",
    "    - grid1[\"specific_ionising_luminosity/HI\"][()]\n",
    ")\n",
    "print(R.shape)\n",
    "print(np.sum(R))\n",
    "plt.imshow(R)\n",
    "plt.show()"
   ]
  }
 ],
 "metadata": {
  "kernelspec": {
   "display_name": "Python 3",
   "language": "python",
   "name": "python3"
  },
  "language_info": {
   "codemirror_mode": {
    "name": "ipython",
    "version": 3
   },
   "file_extension": ".py",
   "mimetype": "text/x-python",
   "name": "python",
   "nbconvert_exporter": "python",
   "pygments_lexer": "ipython3",
   "version": "3.11.3"
  },
  "vscode": {
   "interpreter": {
    "hash": "b17fb8bccc0b39217f999a538066f52bb2439b4a6369f3609a877f598600f747"
   }
  }
 },
 "nbformat": 4,
 "nbformat_minor": 5
}
