{
 "cells": [
  {
   "cell_type": "markdown",
   "id": "659dcb3a-891b-4271-9073-d02efbeb14d5",
   "metadata": {},
   "source": [
    "# Exploring grids\n",
    "\n",
    "This example allows us to explore a HDF5 grid file, and load the corresponding Grid object. We first load some common modules."
   ]
  },
  {
   "cell_type": "code",
   "execution_count": 10,
   "id": "79c4459f-4b18-43dd-922f-f20ad58bbfd6",
   "metadata": {},
   "outputs": [],
   "source": [
    "import h5py"
   ]
  },
  {
   "cell_type": "code",
   "execution_count": 11,
   "id": "d4c139d9-a589-425f-9a69-736b82f96e65",
   "metadata": {},
   "outputs": [],
   "source": [
    "grid_dir = \"/Users/sw376/Dropbox/Research/data/synthesizer/grids/dev\"\n",
    "grid_name = \"bpass-2.2.1-bin_chabrier03-0.1,100.0\""
   ]
  },
  {
   "attachments": {},
   "cell_type": "markdown",
   "id": "16d19411",
   "metadata": {},
   "source": [
    "#### Single spectra"
   ]
  },
  {
   "cell_type": "code",
   "execution_count": 12,
   "id": "c659dba2",
   "metadata": {},
   "outputs": [
    {
     "name": "stdout",
     "output_type": "stream",
     "text": [
      "axes ['ages' 'metallicities']\n"
     ]
    }
   ],
   "source": [
    "with h5py.File(f\"{grid_dir}/{grid_name}.hdf5\") as hf:\n",
    "    for k, v in hf.attrs.items():\n",
    "        print(k, v)"
   ]
  },
  {
   "attachments": {},
   "cell_type": "markdown",
   "id": "4f58f23f",
   "metadata": {},
   "source": [
    "##### datasets"
   ]
  },
  {
   "cell_type": "code",
   "execution_count": 13,
   "id": "e8dcddaf",
   "metadata": {},
   "outputs": [
    {
     "name": "stdout",
     "output_type": "stream",
     "text": [
      "Model\n",
      "- alpha: False\n",
      "- imf_masses: [  0.1 100. ]\n",
      "- imf_slopes: \n",
      "- imf_type: chabrier03\n",
      "- original_model_name: bpass_v2.2.1_imf_chab100\n",
      "- sps_name: bpass\n",
      "- sps_variant: bin\n",
      "- sps_version: 2.2.1\n",
      "axes\n",
      "axes/ages\n",
      "- Description: Stellar population ages\n",
      "- Units: yr\n",
      "axes/metallicities\n",
      "- Description: Stellar population metallicity\n",
      "- Units: dimensionless\n",
      "log10_specific_ionising_luminosity\n",
      "log10_specific_ionising_luminosity/HI\n",
      "- Description: Two-dimensional {ion} ionising photon production rate grid, [age, Z]\n",
      "- Units: dimensionless\n",
      "log10_specific_ionising_luminosity/HeII\n",
      "- Description: Two-dimensional {ion} ionising photon production rate grid, [age, Z]\n",
      "- Units: dimensionless\n",
      "remnant_fraction\n",
      "- Description: Two-dimensional remaining remnant fraction grid, [age, Z]\n",
      "- Units: Msun\n",
      "spectra\n",
      "spectra/incident\n",
      "- Description: Three-dimensional spectra grid, [age, metallicity, wavelength]\n",
      "- Units: erg/(Hz*s)\n",
      "spectra/wavelength\n",
      "- Description: Wavelength of the spectra grid\n",
      "- Units: Å\n",
      "star_fraction\n",
      "- Description: Two-dimensional remaining stellar fraction grid, [age, Z]\n",
      "- Units: Msun\n"
     ]
    }
   ],
   "source": [
    "\n",
    "def visit(name, node):\n",
    "    print(name)\n",
    "    if hasattr(node, 'attrs'):\n",
    "        for attr_name, attr_value in node.attrs.items():\n",
    "            print(f'- {attr_name}: {attr_value}')\n",
    "\n",
    "\n",
    "with h5py.File(f\"{grid_dir}/{grid_name}.hdf5\") as hf:\n",
    "    hf.visititems(visit)"
   ]
  },
  {
   "cell_type": "code",
   "execution_count": null,
   "id": "f3144e31",
   "metadata": {},
   "outputs": [],
   "source": []
  },
  {
   "attachments": {},
   "cell_type": "markdown",
   "id": "095cead4",
   "metadata": {},
   "source": [
    "#### With Synthesizer\n",
    "\n",
    "`synthesizer` contains a `Grid` class for reading and manipulating grids including some helpful summary methods."
   ]
  },
  {
   "cell_type": "code",
   "execution_count": 14,
   "id": "8a9b1038-a78b-4c5d-8d04-c6f0cebda0a9",
   "metadata": {},
   "outputs": [
    {
     "ename": "ModuleNotFoundError",
     "evalue": "No module named 'synthesizer'",
     "output_type": "error",
     "traceback": [
      "\u001b[0;31m---------------------------------------------------------------------------\u001b[0m",
      "\u001b[0;31mModuleNotFoundError\u001b[0m                       Traceback (most recent call last)",
      "Cell \u001b[0;32mIn[14], line 1\u001b[0m\n\u001b[0;32m----> 1\u001b[0m \u001b[39mfrom\u001b[39;00m \u001b[39msynthesizer\u001b[39;00m\u001b[39m.\u001b[39;00m\u001b[39mgrid\u001b[39;00m \u001b[39mimport\u001b[39;00m Grid\n\u001b[1;32m      3\u001b[0m grid \u001b[39m=\u001b[39m Grid(grid_name, grid_dir\u001b[39m=\u001b[39mgrid_dir)\n\u001b[1;32m      4\u001b[0m \u001b[39mprint\u001b[39m(grid)\n",
      "\u001b[0;31mModuleNotFoundError\u001b[0m: No module named 'synthesizer'"
     ]
    }
   ],
   "source": [
    "from synthesizer.grid import Grid\n",
    "\n",
    "grid = Grid(grid_name, grid_dir=grid_dir)\n",
    "print(grid)"
   ]
  }
 ],
 "metadata": {
  "kernelspec": {
   "display_name": "Python 3",
   "language": "python",
   "name": "python3"
  },
  "language_info": {
   "codemirror_mode": {
    "name": "ipython",
    "version": 3
   },
   "file_extension": ".py",
   "mimetype": "text/x-python",
   "name": "python",
   "nbconvert_exporter": "python",
   "pygments_lexer": "ipython3",
   "version": "3.11.3"
  },
  "vscode": {
   "interpreter": {
    "hash": "b17fb8bccc0b39217f999a538066f52bb2439b4a6369f3609a877f598600f747"
   }
  }
 },
 "nbformat": 4,
 "nbformat_minor": 5
}
