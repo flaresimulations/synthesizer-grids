{
 "cells": [
  {
   "cell_type": "markdown",
   "id": "659dcb3a-891b-4271-9073-d02efbeb14d5",
   "metadata": {},
   "source": [
    "# Exploring grids\n",
    "\n",
    "This example allows us to explore a HDF5 grid file, and load the corresponding Grid object. We first load some common modules."
   ]
  },
  {
   "cell_type": "code",
   "execution_count": 1,
   "id": "79c4459f-4b18-43dd-922f-f20ad58bbfd6",
   "metadata": {
    "tags": []
   },
   "outputs": [],
   "source": [
    "import numpy as np\n",
    "import h5py\n",
    "import matplotlib.pyplot as plt"
   ]
  },
  {
   "cell_type": "code",
   "execution_count": 2,
   "id": "d4c139d9-a589-425f-9a69-736b82f96e65",
   "metadata": {
    "tags": []
   },
   "outputs": [],
   "source": [
    "grid_dir = \"/Users/sw376/Dropbox/Research/data/synthesizer/grids\"\n",
    "grid_name = \"bpass-2.2.1-bin_chabrier03-0.1,300.0\"\n",
    "grid_name = \"bc03_chabrier03-0.1,100\"\n",
    "grid_name = \"feltre16\""
   ]
  },
  {
   "attachments": {},
   "cell_type": "markdown",
   "id": "16d19411",
   "metadata": {},
   "source": [
    "#### Single spectra"
   ]
  },
  {
   "cell_type": "code",
   "execution_count": 3,
   "id": "c659dba2",
   "metadata": {},
   "outputs": [
    {
     "name": "stdout",
     "output_type": "stream",
     "text": [
      "axes ['alpha' 'metallicity']\n",
      "date 2023-10-27\n",
      "model feltre16\n",
      "synthesizer-grids_tag 1.0.0-4-gb1a558d\n"
     ]
    }
   ],
   "source": [
    "with h5py.File(f\"{grid_dir}/{grid_name}.hdf5\") as hf:\n",
    "    for k, v in hf.attrs.items():\n",
    "        print(k, v)"
   ]
  },
  {
   "attachments": {},
   "cell_type": "markdown",
   "id": "4f58f23f",
   "metadata": {},
   "source": [
    "##### datasets"
   ]
  },
  {
   "cell_type": "code",
   "execution_count": 4,
   "id": "e8dcddaf",
   "metadata": {},
   "outputs": [
    {
     "name": "stdout",
     "output_type": "stream",
     "text": [
      "axes\n",
      "axes/alpha\n",
      "axes/metallicity\n",
      "specific_ionising_luminosity\n",
      "specific_ionising_luminosity/HI\n",
      "specific_ionising_luminosity/HeII\n",
      "spectra\n",
      "spectra/incident\n",
      "spectra/wavelength\n"
     ]
    }
   ],
   "source": [
    "with h5py.File(f\"{grid_dir}/{grid_name}.hdf5\") as hf:\n",
    "    hf.visit(print)"
   ]
  },
  {
   "attachments": {},
   "cell_type": "markdown",
   "id": "095cead4",
   "metadata": {},
   "source": [
    "#### With Synthesizer\n",
    "\n",
    "`synthesizer` contains a `Grid` class for reading and manipulating grids including some helpful summary methods."
   ]
  },
  {
   "cell_type": "code",
   "execution_count": 5,
   "id": "8a9b1038-a78b-4c5d-8d04-c6f0cebda0a9",
   "metadata": {
    "tags": []
   },
   "outputs": [
    {
     "name": "stdout",
     "output_type": "stream",
     "text": [
      "------------------------------\n",
      "SUMMARY OF GRID\n",
      "alpha: [-2.  -1.8 -1.6 -1.4 -1.2] \n",
      "metallicity: [1.e-05 3.e-05 1.e-04 3.e-04 1.e-03 3.e-03 1.e-02 3.e-02] \n",
      "axes: ['alpha' 'metallicity'] \n",
      "date: 2023-10-27 \n",
      "model: feltre16 \n",
      "synthesizer-grids_tag: 1.0.0-4-gb1a558d \n",
      "spectra: ['incident', 'stellar']\n",
      "------------------------------\n",
      "\n"
     ]
    }
   ],
   "source": [
    "from synthesizer.grid import Grid\n",
    "\n",
    "grid = Grid(grid_name, grid_dir=grid_dir)\n",
    "print(grid)"
   ]
  }
 ],
 "metadata": {
  "kernelspec": {
   "display_name": "Python 3",
   "language": "python",
   "name": "python3"
  },
  "language_info": {
   "codemirror_mode": {
    "name": "ipython",
    "version": 3
   },
   "file_extension": ".py",
   "mimetype": "text/x-python",
   "name": "python",
   "nbconvert_exporter": "python",
   "pygments_lexer": "ipython3",
   "version": "3.11.3"
  },
  "vscode": {
   "interpreter": {
    "hash": "b17fb8bccc0b39217f999a538066f52bb2439b4a6369f3609a877f598600f747"
   }
  }
 },
 "nbformat": 4,
 "nbformat_minor": 5
}
