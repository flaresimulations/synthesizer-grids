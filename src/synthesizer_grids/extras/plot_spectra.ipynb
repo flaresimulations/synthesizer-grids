{
 "cells": [
  {
   "attachments": {},
   "cell_type": "markdown",
   "id": "659dcb3a-891b-4271-9073-d02efbeb14d5",
   "metadata": {},
   "source": [
    "# Plotting spectra"
   ]
  },
  {
   "cell_type": "code",
   "execution_count": null,
   "id": "79c4459f-4b18-43dd-922f-f20ad58bbfd6",
   "metadata": {},
   "outputs": [],
   "source": [
    "import h5py\n",
    "import matplotlib.pyplot as plt\n",
    "import numpy as np"
   ]
  },
  {
   "cell_type": "code",
   "execution_count": null,
   "id": "d4c139d9-a589-425f-9a69-736b82f96e65",
   "metadata": {},
   "outputs": [],
   "source": [
    "grid_dir = \"/Users/sw376/Dropbox/Research/data/synthesizer/grids\"\n",
    "grid_name = \"bpass-2.2.1-bin_chabrier03-0.1,300.0\"\n",
    "grid_name = \"bc03_chabrier03-0.1,100\"\n",
    "grid_name = \"feltre16\"\n",
    "grid_name = \"agnsed\""
   ]
  },
  {
   "attachments": {},
   "cell_type": "markdown",
   "id": "16d19411",
   "metadata": {},
   "source": [
    "#### Open"
   ]
  },
  {
   "cell_type": "code",
   "execution_count": null,
   "id": "c659dba2",
   "metadata": {},
   "outputs": [],
   "source": [
    "grid = h5py.File(f\"{grid_dir}/{grid_name}.hdf5\")\n",
    "print(grid.attrs[\"axes\"])"
   ]
  },
  {
   "attachments": {},
   "cell_type": "markdown",
   "id": "8a49a196",
   "metadata": {},
   "source": [
    "#### Plot single spectra"
   ]
  },
  {
   "cell_type": "code",
   "execution_count": null,
   "id": "bea093d5",
   "metadata": {},
   "outputs": [],
   "source": [
    "grid_point = tuple(np.zeros(grid.attrs[\"axes\"].shape, dtype=np.int8))\n",
    "\n",
    "lam = grid[\"spectra/wavelength\"][()]\n",
    "lnu = grid[\"spectra/incident\"][grid_point]\n",
    "\n",
    "plt.plot(np.log10(lam), np.log10(lnu))\n",
    "plt.ylim(np.max(np.log10(lnu)) - 4, np.max(np.log10(lnu)) + 0.2)\n",
    "plt.show()"
   ]
  },
  {
   "attachments": {},
   "cell_type": "markdown",
   "id": "2dd759a0",
   "metadata": {},
   "source": [
    "## Plot extremes\n",
    "\n",
    "Plot all the corners (2^N)"
   ]
  },
  {
   "cell_type": "code",
   "execution_count": null,
   "id": "f92b65b7",
   "metadata": {},
   "outputs": [],
   "source": [
    "grid_point = tuple(np.zeros(grid.attrs[\"axes\"].shape, dtype=np.int8))\n",
    "\n",
    "lam = grid[\"spectra/wavelength\"][()]\n",
    "lnu = grid[\"spectra/incident\"][grid_point]\n",
    "\n",
    "plt.plot(np.log10(lam), np.log10(lnu))\n",
    "plt.ylim(np.max(np.log10(lnu)) - 4, np.max(np.log10(lnu)) + 0.2)\n",
    "plt.show()"
   ]
  }
 ],
 "metadata": {},
 "nbformat": 4,
 "nbformat_minor": 5
}
