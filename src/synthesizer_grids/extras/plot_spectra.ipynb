{
 "cells": [
  {
   "attachments": {},
   "cell_type": "markdown",
   "id": "659dcb3a-891b-4271-9073-d02efbeb14d5",
   "metadata": {},
   "source": [
    "# Plotting spectra"
   ]
  },
  {
   "cell_type": "code",
   "execution_count": null,
   "id": "79c4459f-4b18-43dd-922f-f20ad58bbfd6",
   "metadata": {},
   "outputs": [],
   "source": [
    "import h5py\n",
    "import matplotlib.pyplot as plt\n",
    "import numpy as np"
   ]
  },
  {
   "cell_type": "code",
   "execution_count": null,
   "id": "d4c139d9-a589-425f-9a69-736b82f96e65",
   "metadata": {},
   "outputs": [],
   "source": [
    "grid_dir = \"/Users/sw376/Dropbox/Research/data/synthesizer/grids\"\n",
    "grid_name = \"bpass-2.2.1-bin_chabrier03-0.1,300.0\"\n",
    "grid_name = \"bc03_chabrier03-0.1,100\"\n",
    "grid_name = \"feltre16\"\n",
    "grid_name = \"agnsed\"\n",
    "grid_name = \"test\"\n",
    "grid_name = \"test_cloudy-c23.01-sps\"\n",
    "\n",
    "spec_type = 'incident'\n",
    "spec_type = 'linecont'"
   ]
  },
  {
   "attachments": {},
   "cell_type": "markdown",
   "id": "16d19411",
   "metadata": {},
   "source": [
    "#### Open"
   ]
  },
  {
   "cell_type": "code",
   "execution_count": null,
   "id": "c659dba2",
   "metadata": {},
   "outputs": [],
   "source": [
    "grid = h5py.File(f\"{grid_dir}/{grid_name}.hdf5\")\n",
    "print(grid.attrs[\"axes\"])"
   ]
  },
  {
   "attachments": {},
   "cell_type": "markdown",
   "id": "8a49a196",
   "metadata": {},
   "source": [
    "#### Plot single spectra"
   ]
  },
  {
   "cell_type": "code",
   "execution_count": null,
   "id": "bea093d5",
   "metadata": {},
   "outputs": [],
   "source": [
    "grid_point = tuple(np.zeros(grid.attrs[\"axes\"].shape, dtype=np.int8))\n",
    "\n",
    "lam = grid[\"spectra/wavelength\"][()]\n",
    "lnu = grid[f\"spectra/{spec_type}\"][grid_point]\n",
    "\n",
    "plt.plot(np.log10(lam), np.log10(lnu))\n",
    "plt.ylim(np.max(np.log10(lnu)) - 4, np.max(np.log10(lnu)) + 0.2)\n",
    "plt.show()"
   ]
  },
  {
   "attachments": {},
   "cell_type": "markdown",
   "id": "2dd759a0",
   "metadata": {},
   "source": [
    "## Plot extremes\n",
    "\n",
    "Plot all the corners (2^N)"
   ]
  },
  {
   "cell_type": "code",
   "execution_count": null,
   "id": "f92b65b7",
   "metadata": {},
   "outputs": [],
   "source": [
    "# Get the corner indices\n",
    "corner_indices = [(0, 0), (0, -1), (-1, 0), (-1, -1)]\n",
    "\n",
    "lam = grid[\"spectra/wavelength\"][()]\n",
    "\n",
    "for grid_point in corner_indices:\n",
    "    lnu = grid[f\"spectra/{spec_type}\"][grid_point]\n",
    "\n",
    "    plt.plot(np.log10(lam), np.log10(lnu))\n",
    "    plt.ylim(np.max(np.log10(lnu)) - 4, np.max(np.log10(lnu)) + 0.2)\n",
    "\n",
    "plt.show()"
   ]
  }
 ],
 "metadata": {
  "kernelspec": {
   "display_name": "venv",
   "language": "python",
   "name": "python3"
  },
  "language_info": {
   "codemirror_mode": {
    "name": "ipython",
    "version": 3
   },
   "file_extension": ".py",
   "mimetype": "text/x-python",
   "name": "python",
   "nbconvert_exporter": "python",
   "pygments_lexer": "ipython3",
   "version": "3.10.11"
  },
  "vscode": {
   "interpreter": {
    "hash": "d4fb8525df3c2933e1fe2b0e2382726f2f8767d7ff137e82aa6f121fad304b59"
   }
  }
 },
 "nbformat": 4,
 "nbformat_minor": 5
}
