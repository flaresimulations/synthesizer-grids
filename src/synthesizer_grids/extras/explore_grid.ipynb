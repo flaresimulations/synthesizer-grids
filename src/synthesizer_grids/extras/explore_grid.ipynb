{
 "cells": [
  {
   "cell_type": "markdown",
   "id": "659dcb3a-891b-4271-9073-d02efbeb14d5",
   "metadata": {},
   "source": [
    "# Exploring grids\n",
    "\n",
    "This example allows us to explore a HDF5 grid file, and load the corresponding Grid object. We first load some common modules."
   ]
  },
  {
   "cell_type": "code",
   "execution_count": null,
   "id": "79c4459f-4b18-43dd-922f-f20ad58bbfd6",
   "metadata": {},
   "outputs": [],
   "source": [
    "import h5py"
   ]
  },
  {
   "cell_type": "code",
   "execution_count": null,
   "id": "d4c139d9-a589-425f-9a69-736b82f96e65",
   "metadata": {},
   "outputs": [],
   "source": [
    "grid_dir = \"/Users/sw376/Dropbox/Research/data/synthesizer/grids\"\n",
    "grid_name = \"bpass-2.2.1-bin_chabrier03-0.1,100.0\"\n",
    "grid_name = \"test\"\n",
    "grid_name = \"test_cloudy-c23.01-sps\"\n",
    "grid_name = \"test_cloudy-c23.01-sps-reference_ionisation_parameter\"\n",
    "# grid_name = \"bc03_chabrier03-0.1,100\"\n",
    "# grid_name = \"feltre16\"\n"
   ]
  },
  {
   "attachments": {},
   "cell_type": "markdown",
   "id": "16d19411",
   "metadata": {},
   "source": [
    "#### Single spectra"
   ]
  },
  {
   "cell_type": "code",
   "execution_count": null,
   "id": "c659dba2",
   "metadata": {},
   "outputs": [],
   "source": [
    "with h5py.File(f\"{grid_dir}/{grid_name}.hdf5\") as hf:\n",
    "    for k, v in hf.attrs.items():\n",
    "        print(k, v)"
   ]
  },
  {
   "attachments": {},
   "cell_type": "markdown",
   "id": "4f58f23f",
   "metadata": {},
   "source": [
    "##### datasets"
   ]
  },
  {
   "cell_type": "code",
   "execution_count": null,
   "id": "e8dcddaf",
   "metadata": {},
   "outputs": [],
   "source": [
    "with h5py.File(f\"{grid_dir}/{grid_name}.hdf5\") as hf:\n",
    "    hf.visit(print)"
   ]
  },
  {
   "attachments": {},
   "cell_type": "markdown",
   "id": "095cead4",
   "metadata": {},
   "source": [
    "#### With Synthesizer\n",
    "\n",
    "`synthesizer` contains a `Grid` class for reading and manipulating grids including some helpful summary methods."
   ]
  },
  {
   "cell_type": "code",
   "execution_count": null,
   "id": "8a9b1038-a78b-4c5d-8d04-c6f0cebda0a9",
   "metadata": {},
   "outputs": [],
   "source": [
    "from synthesizer.grid import Grid\n",
    "\n",
    "grid = Grid(grid_name, grid_dir=grid_dir, read_lines=False)\n",
    "print(grid)"
   ]
  }
 ],
 "metadata": {
  "kernelspec": {
   "display_name": "venv",
   "language": "python",
   "name": "python3"
  },
  "language_info": {
   "codemirror_mode": {
    "name": "ipython",
    "version": 3
   },
   "file_extension": ".py",
   "mimetype": "text/x-python",
   "name": "python",
   "nbconvert_exporter": "python",
   "pygments_lexer": "ipython3",
   "version": "3.10.11"
  },
  "vscode": {
   "interpreter": {
    "hash": "d4fb8525df3c2933e1fe2b0e2382726f2f8767d7ff137e82aa6f121fad304b59"
   }
  }
 },
 "nbformat": 4,
 "nbformat_minor": 5
}
