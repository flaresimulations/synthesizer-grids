{
 "cells": [
  {
   "cell_type": "code",
   "execution_count": 18,
   "metadata": {},
   "outputs": [
    {
     "data": {
      "text/plain": [
       "4364.999458101662"
      ]
     },
     "execution_count": 18,
     "metadata": {},
     "output_type": "execute_result"
    }
   ],
   "source": [
    "\n",
    "import numpy as np\n",
    "\n",
    "\n",
    "\n",
    "def vacuum_to_air(wave):\n",
    "\n",
    "    wave2 = wave**2.0\n",
    "\n",
    "    fact = 1.0 + 2.735182e-4 + 131.4182 / wave2 + 2.76249e8 / (wave2**2.0)\n",
    "\n",
    "    fact = fact * (wave >= 2000.0) + 1.0 * (wave < 2000.0)\n",
    "\n",
    "    wave = wave / fact\n",
    "\n",
    "    return wave\n",
    "\n",
    "def air_to_vacuum(wave):\n",
    "\n",
    "    sigma2 = (1.0e4 / wave) ** 2.0  # Convert to wavenumber squared\n",
    "\n",
    "    # Compute conversion factor\n",
    "\n",
    "    fact = 1.0 + 6.4328e-5 + 2.94981e-2 / (146.0 - sigma2) + 2.5540e-4 / (41.0 - sigma2)\n",
    "\n",
    "    fact = fact * (wave >= 2000.0) + 1.0 * (wave < 2000.0)\n",
    "\n",
    "    wave = wave * fact  # Convert Wavelength\n",
    "\n",
    "    return wave\n",
    "\n",
    "\n",
    "air_to_vacuum(vacuum_to_air(4365.))"
   ]
  },
  {
   "cell_type": "code",
   "execution_count": 20,
   "metadata": {},
   "outputs": [
    {
     "name": "stdout",
     "output_type": "stream",
     "text": [
      "['Ar 3 7135.79A\\n', 'C 3 1906.68A\\n', 'C 3 1908.73A\\n', 'C 4 1548.19A\\n', 'C 4 1550.78A\\n', 'Fe 2 1.25668m\\n', 'Fe 2 1.64355m\\n', 'Fe 4 2835.74A\\n', 'Fe 4 3094.96A\\n', 'H 1 1.09380m\\n', 'H 1 1.28180m\\n', 'H 1 1.87510m\\n', 'H 1 1215.67A\\n', 'H 1 3889.05A\\n', 'H 1 3970.07A\\n', 'H 1 4101.73A\\n', 'H 1 4340.46A\\n', 'H 1 4861.33A\\n', 'H 1 6562.81A\\n', 'He 1 1.08303m\\n', 'He 1 3888.63A\\n', 'He 1 5875.64A\\n', 'Mg 2 2795.53A\\n', 'Mg 2 2802.71A\\n', 'N 2 6548.05A\\n', 'N 2 6583.45A\\n', 'Ne 3 3868.76A\\n', 'Ne 3 3967.47A\\n', 'O 2 3726.03A\\n', 'O 2 3728.81A\\n', 'O 3 1666.15A\\n', 'O 3 4958.91A\\n', 'O 3 5006.84A\\n', 'S 2 6716.44A\\n', 'S 2 6730.82A\\n', 'S 3 9068.62A\\n', 'S 3 9530.62A\\n', 'Si 3 1882.71A\\n', 'Si 3 1892.03A\\n']\n",
      "Ar 3 7135.79A 7135.79 A | Ar 3 7137.76A | Ar 3 7137.76A\n",
      "C 3 1906.68A 1906.68 A | C 3 1906.68A | C 3 1906.68A\n",
      "C 3 1908.73A 1908.73 A | C 3 1908.73A | C 3 1908.73A\n",
      "C 4 1548.19A 1548.19 A | C 4 1548.19A | C 4 1548.19A\n",
      "C 4 1550.78A 1550.78 A | C 4 1550.78A | C 4 1550.78A\n",
      "Fe 2 1.25668m 1.25668 m | Fe 2 1.25668m | Fe 2 1.25702m\n",
      "Fe 2 1.64355m 1.64355 m | Fe 2 1.64355m | Fe 2 1.64400m\n",
      "Fe 4 2835.74A 2835.74 A | Fe 4 2836.57A | Fe 4 2836.57A\n",
      "Fe 4 3094.96A 3094.96 A | Fe 4 3095.86A | Fe 4 3095.86A\n",
      "H 1 1.09380m 1.0938 m | H 1 1.0938m | H 1 1.09410m\n",
      "H 1 1.28180m 1.2818 m | H 1 1.2818m | H 1 1.28215m\n",
      "H 1 1.87510m 1.8751 m | H 1 1.8751m | H 1 1.87561m\n",
      "H 1 1215.67A 1215.67 A | H 1 1215.67A | H 1 1215.67A\n",
      "H 1 3889.05A 3889.05 A | H 1 3890.15A | H 1 3890.15A\n",
      "H 1 3970.07A 3970.07 A | H 1 3971.19A | H 1 3971.19A\n",
      "H 1 4101.73A 4101.73 A | H 1 4102.89A | H 1 4102.89A\n",
      "H 1 4340.46A 4340.46 A | H 1 4341.68A | H 1 4341.68A\n",
      "H 1 4861.33A 4861.33 A | H 1 4862.69A | H 1 4862.69A\n",
      "H 1 6562.81A 6562.81 A | H 1 6564.62A | H 1 6564.62A\n",
      "He 1 1.08303m 1.08303 m | He 1 1.08303m | He 1 1.08332m\n",
      "He 1 3888.63A 3888.63 A | He 1 3889.73A | He 1 3889.74A\n",
      "He 1 5875.64A 5875.64 A | He 1 5877.27A | He 1 5877.26A\n",
      "Mg 2 2795.53A 2795.53 A | Mg 2 2796.35A | Mg 2 2796.35A\n",
      "Mg 2 2802.71A 2802.71 A | Mg 2 2803.54A | Mg 2 2803.53A\n",
      "N 2 6548.05A 6548.05 A | N 2 6549.86A | N 2 6549.86A\n",
      "N 2 6583.45A 6583.45 A | N 2 6585.27A | N 2 6585.27A\n",
      "Ne 3 3868.76A 3868.76 A | Ne 3 3869.86A | Ne 3 3869.86A\n",
      "Ne 3 3967.47A 3967.47 A | Ne 3 3968.59A | Ne 3 3968.59A\n",
      "O 2 3726.03A 3726.03 A | O 2 3727.09A | O 2 3727.09A\n",
      "O 2 3728.81A 3728.81 A | O 2 3729.87A | O 2 3729.88A\n",
      "O 3 1666.15A 1666.15 A | O 3 1666.15A | O 3 1666.15A\n",
      "O 3 4958.91A 4958.91 A | O 3 4960.29A | O 3 4960.29A\n",
      "O 3 5006.84A 5006.84 A | O 3 5008.24A | O 3 5008.24A\n",
      "S 2 6716.44A 6716.44 A | S 2 6718.29A | S 2 6718.29A\n",
      "S 2 6730.82A 6730.82 A | S 2 6732.68A | S 2 6732.67A\n",
      "S 3 9068.62A 9068.62 A | S 3 9071.11A | S 3 9071.11A\n",
      "S 3 9530.62A 9530.62 A | S 3 9533.23A | S 3 9533.23A\n",
      "Si 3 1882.71A 1882.71 A | Si 3 1882.71A | Si 3 1882.71A\n",
      "Si 3 1892.03A 1892.03 A | Si 3 1892.03A | Si 3 1892.03A\n"
     ]
    }
   ],
   "source": [
    "\n",
    "\n",
    "\n",
    "standard = open('linelist-standard.dat', 'r').readlines()\n",
    "vacuum = open('linelist-vacuum.dat', 'r').readlines()\n",
    "\n",
    "\n",
    "print(standard)\n",
    "\n",
    "\n",
    "for standard_, vacuum_ in zip(standard, vacuum):\n",
    "\n",
    "    # remove escape character\n",
    "    standard_ = standard_[:-1] \n",
    "    vacuum_ = vacuum_[:-1] \n",
    "\n",
    "    element, ion, wavelength = standard_.split(' ')\n",
    "\n",
    "    wavelength_ = float(wavelength[:-1])\n",
    "    wavelength_unit = wavelength[-1]\n",
    "\n",
    "    # convert to vacuum\n",
    "    new_vacuum = f'{element} {ion} {air_to_vacuum(wavelength_):.6g}{wavelength_unit}'\n",
    "\n",
    "    print(standard_, wavelength_, wavelength_unit, '|', new_vacuum, '|', vacuum_)\n",
    "\n"
   ]
  }
 ],
 "metadata": {
  "kernelspec": {
   "display_name": "venv",
   "language": "python",
   "name": "python3"
  },
  "language_info": {
   "codemirror_mode": {
    "name": "ipython",
    "version": 3
   },
   "file_extension": ".py",
   "mimetype": "text/x-python",
   "name": "python",
   "nbconvert_exporter": "python",
   "pygments_lexer": "ipython3",
   "version": "3.10.11"
  },
  "orig_nbformat": 4,
  "vscode": {
   "interpreter": {
    "hash": "e828006d800776859fe019c99243fe239141ffa38c28797957354eb0b1098813"
   }
  }
 },
 "nbformat": 4,
 "nbformat_minor": 2
}
