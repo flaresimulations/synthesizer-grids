{
 "cells": [
  {
   "attachments": {},
   "cell_type": "markdown",
   "metadata": {},
   "source": [
    "# Linelist generator\n",
    "\n",
    "This is a simple notebook to generate a reduced linelist for use by `cloudy` in the grid creation process. This works by analysing various cloudy models including stellar and AGN models at different metallicity and then combining the line lists where lines are bright enough in at least one model."
   ]
  },
  {
   "cell_type": "code",
   "execution_count": 1,
   "metadata": {},
   "outputs": [],
   "source": [
    "import numpy as np\n",
    "from synthesizer.photoionisation import cloudy23"
   ]
  },
  {
   "cell_type": "code",
   "execution_count": 2,
   "metadata": {},
   "outputs": [],
   "source": [
    "# define the wavelength type, either standard or just using vacuum wavelengths.\n",
    "wavelength_type = 'standard'\n",
    "# wavelength_type = 'vacuum'\n",
    "\n",
    "# define the reference line to use, by default here we use Hbeta\n",
    "if wavelength_type == 'standard':\n",
    "    reference_line = 'H 1 4861.32A'\n",
    "if wavelength_type == 'vacuum':\n",
    "    reference_line = 'H 1 4862.69A'\n",
    "\n",
    "# log constrast relative to Hbeta to consider, i.e. only include lines which are within this value of the reference line.\n",
    "contrast_stars = 1.5\n",
    "contrast_agn = 1.0\n",
    "\n",
    "# minimum wavelength of lines to consider\n",
    "min_wavelength = 1000\n",
    "\n",
    "# maximum wavelength of lines to consider\n",
    "max_wavelength = 25000"
   ]
  },
  {
   "attachments": {},
   "cell_type": "markdown",
   "metadata": {},
   "source": [
    "### Stellar models\n",
    "\n",
    "Read in AGN model line lists and identify lines above the threshold."
   ]
  },
  {
   "cell_type": "code",
   "execution_count": 3,
   "metadata": {},
   "outputs": [
    {
     "ename": "FileNotFoundError",
     "evalue": "metallicity_standard/1.lines not found.",
     "output_type": "error",
     "traceback": [
      "\u001b[0;31m---------------------------------------------------------------------------\u001b[0m",
      "\u001b[0;31mFileNotFoundError\u001b[0m                         Traceback (most recent call last)",
      "Cell \u001b[0;32mIn[3], line 6\u001b[0m\n\u001b[1;32m      4\u001b[0m \u001b[39mfor\u001b[39;00m i \u001b[39min\u001b[39;00m \u001b[39mrange\u001b[39m(\u001b[39m4\u001b[39m):\n\u001b[1;32m      5\u001b[0m     i \u001b[39m+\u001b[39m\u001b[39m=\u001b[39m \u001b[39m1\u001b[39m\n\u001b[0;32m----> 6\u001b[0m     line_ids, blends, wavelengths, intrinsic, emergent \u001b[39m=\u001b[39m cloudy23\u001b[39m.\u001b[39;49mread_lines(\u001b[39mrf\u001b[39;49m\u001b[39m'\u001b[39;49m\u001b[39m{\u001b[39;49;00mmodel\u001b[39m}\u001b[39;49;00m\u001b[39m/\u001b[39;49m\u001b[39m{\u001b[39;49;00mi\u001b[39m}\u001b[39;49;00m\u001b[39m'\u001b[39;49m)\n\u001b[1;32m      7\u001b[0m     Hbeta \u001b[39m=\u001b[39m emergent[line_ids\u001b[39m==\u001b[39mreference_line][\u001b[39m0\u001b[39m]\n\u001b[1;32m      8\u001b[0m     s \u001b[39m=\u001b[39m (emergent \u001b[39m>\u001b[39m (Hbeta \u001b[39m-\u001b[39m contrast_stars)) \u001b[39m&\u001b[39m (wavelengths\u001b[39m<\u001b[39mmax_wavelength) \u001b[39m&\u001b[39m (wavelengths\u001b[39m>\u001b[39mmin_wavelength) \u001b[39m&\u001b[39m (blends \u001b[39m==\u001b[39m \u001b[39mFalse\u001b[39;00m)\n",
      "File \u001b[0;32m~/Dropbox/Research/projects/flares_agn_ionising/venv/lib/python3.10/site-packages/synthesizer/photoionisation/cloudy23.py:483\u001b[0m, in \u001b[0;36mread_lines\u001b[0;34m(filename, extension)\u001b[0m\n\u001b[1;32m    459\u001b[0m \u001b[39m\u001b[39m\u001b[39m\"\"\"\u001b[39;00m\n\u001b[1;32m    460\u001b[0m \u001b[39mRead a full line list from a cloudy output file.\u001b[39;00m\n\u001b[1;32m    461\u001b[0m \n\u001b[0;32m   (...)\u001b[0m\n\u001b[1;32m    479\u001b[0m \n\u001b[1;32m    480\u001b[0m \u001b[39m\"\"\"\u001b[39;00m\n\u001b[1;32m    482\u001b[0m \u001b[39m# open file and read columns\u001b[39;00m\n\u001b[0;32m--> 483\u001b[0m wavelengths, cloudy_ids, intrinsic, emergent \u001b[39m=\u001b[39m np\u001b[39m.\u001b[39;49mloadtxt(\n\u001b[1;32m    484\u001b[0m     \u001b[39mf\u001b[39;49m\u001b[39m\"\u001b[39;49m\u001b[39m{\u001b[39;49;00mfilename\u001b[39m}\u001b[39;49;00m\u001b[39m.\u001b[39;49m\u001b[39m{\u001b[39;49;00mextension\u001b[39m}\u001b[39;49;00m\u001b[39m\"\u001b[39;49m,\n\u001b[1;32m    485\u001b[0m     dtype\u001b[39m=\u001b[39;49m\u001b[39mstr\u001b[39;49m,\n\u001b[1;32m    486\u001b[0m     delimiter\u001b[39m=\u001b[39;49m\u001b[39m\"\u001b[39;49m\u001b[39m\\t\u001b[39;49;00m\u001b[39m\"\u001b[39;49m,\n\u001b[1;32m    487\u001b[0m     usecols\u001b[39m=\u001b[39;49m(\u001b[39m0\u001b[39;49m, \u001b[39m1\u001b[39;49m, \u001b[39m2\u001b[39;49m, \u001b[39m3\u001b[39;49m),\n\u001b[1;32m    488\u001b[0m )\u001b[39m.\u001b[39mT\n\u001b[1;32m    490\u001b[0m wavelengths \u001b[39m=\u001b[39m wavelengths\u001b[39m.\u001b[39mastype(\u001b[39mfloat\u001b[39m)\n\u001b[1;32m    491\u001b[0m intrinsic \u001b[39m=\u001b[39m intrinsic\u001b[39m.\u001b[39mastype(\u001b[39mfloat\u001b[39m) \u001b[39m-\u001b[39m \u001b[39m7.0\u001b[39m  \u001b[39m# erg s^{-1}\u001b[39;00m\n",
      "File \u001b[0;32m~/Dropbox/Research/projects/flares_agn_ionising/venv/lib/python3.10/site-packages/numpy/lib/_npyio_impl.py:1397\u001b[0m, in \u001b[0;36mloadtxt\u001b[0;34m(fname, dtype, comments, delimiter, converters, skiprows, usecols, unpack, ndmin, encoding, max_rows, quotechar, like)\u001b[0m\n\u001b[1;32m   1394\u001b[0m \u001b[39mif\u001b[39;00m \u001b[39misinstance\u001b[39m(delimiter, \u001b[39mbytes\u001b[39m):\n\u001b[1;32m   1395\u001b[0m     delimiter \u001b[39m=\u001b[39m delimiter\u001b[39m.\u001b[39mdecode(\u001b[39m'\u001b[39m\u001b[39mlatin1\u001b[39m\u001b[39m'\u001b[39m)\n\u001b[0;32m-> 1397\u001b[0m arr \u001b[39m=\u001b[39m _read(fname, dtype\u001b[39m=\u001b[39;49mdtype, comment\u001b[39m=\u001b[39;49mcomment, delimiter\u001b[39m=\u001b[39;49mdelimiter,\n\u001b[1;32m   1398\u001b[0m             converters\u001b[39m=\u001b[39;49mconverters, skiplines\u001b[39m=\u001b[39;49mskiprows, usecols\u001b[39m=\u001b[39;49musecols,\n\u001b[1;32m   1399\u001b[0m             unpack\u001b[39m=\u001b[39;49munpack, ndmin\u001b[39m=\u001b[39;49mndmin, encoding\u001b[39m=\u001b[39;49mencoding,\n\u001b[1;32m   1400\u001b[0m             max_rows\u001b[39m=\u001b[39;49mmax_rows, quote\u001b[39m=\u001b[39;49mquotechar)\n\u001b[1;32m   1402\u001b[0m \u001b[39mreturn\u001b[39;00m arr\n",
      "File \u001b[0;32m~/Dropbox/Research/projects/flares_agn_ionising/venv/lib/python3.10/site-packages/numpy/lib/_npyio_impl.py:1012\u001b[0m, in \u001b[0;36m_read\u001b[0;34m(fname, delimiter, comment, quote, imaginary_unit, usecols, skiplines, max_rows, converters, ndmin, unpack, dtype, encoding)\u001b[0m\n\u001b[1;32m   1010\u001b[0m     fname \u001b[39m=\u001b[39m os\u001b[39m.\u001b[39mfspath(fname)\n\u001b[1;32m   1011\u001b[0m \u001b[39mif\u001b[39;00m \u001b[39misinstance\u001b[39m(fname, \u001b[39mstr\u001b[39m):\n\u001b[0;32m-> 1012\u001b[0m     fh \u001b[39m=\u001b[39m np\u001b[39m.\u001b[39;49mlib\u001b[39m.\u001b[39;49m_datasource\u001b[39m.\u001b[39;49mopen(fname, \u001b[39m'\u001b[39;49m\u001b[39mrt\u001b[39;49m\u001b[39m'\u001b[39;49m, encoding\u001b[39m=\u001b[39;49mencoding)\n\u001b[1;32m   1013\u001b[0m     \u001b[39mif\u001b[39;00m encoding \u001b[39mis\u001b[39;00m \u001b[39mNone\u001b[39;00m:\n\u001b[1;32m   1014\u001b[0m         encoding \u001b[39m=\u001b[39m \u001b[39mgetattr\u001b[39m(fh, \u001b[39m'\u001b[39m\u001b[39mencoding\u001b[39m\u001b[39m'\u001b[39m, \u001b[39m'\u001b[39m\u001b[39mlatin1\u001b[39m\u001b[39m'\u001b[39m)\n",
      "File \u001b[0;32m~/Dropbox/Research/projects/flares_agn_ionising/venv/lib/python3.10/site-packages/numpy/lib/_datasource.py:192\u001b[0m, in \u001b[0;36mopen\u001b[0;34m(path, mode, destpath, encoding, newline)\u001b[0m\n\u001b[1;32m    155\u001b[0m \u001b[39m\u001b[39m\u001b[39m\"\"\"\u001b[39;00m\n\u001b[1;32m    156\u001b[0m \u001b[39mOpen `path` with `mode` and return the file object.\u001b[39;00m\n\u001b[1;32m    157\u001b[0m \n\u001b[0;32m   (...)\u001b[0m\n\u001b[1;32m    188\u001b[0m \n\u001b[1;32m    189\u001b[0m \u001b[39m\"\"\"\u001b[39;00m\n\u001b[1;32m    191\u001b[0m ds \u001b[39m=\u001b[39m DataSource(destpath)\n\u001b[0;32m--> 192\u001b[0m \u001b[39mreturn\u001b[39;00m ds\u001b[39m.\u001b[39;49mopen(path, mode, encoding\u001b[39m=\u001b[39;49mencoding, newline\u001b[39m=\u001b[39;49mnewline)\n",
      "File \u001b[0;32m~/Dropbox/Research/projects/flares_agn_ionising/venv/lib/python3.10/site-packages/numpy/lib/_datasource.py:529\u001b[0m, in \u001b[0;36mDataSource.open\u001b[0;34m(self, path, mode, encoding, newline)\u001b[0m\n\u001b[1;32m    526\u001b[0m     \u001b[39mreturn\u001b[39;00m _file_openers[ext](found, mode\u001b[39m=\u001b[39mmode,\n\u001b[1;32m    527\u001b[0m                               encoding\u001b[39m=\u001b[39mencoding, newline\u001b[39m=\u001b[39mnewline)\n\u001b[1;32m    528\u001b[0m \u001b[39melse\u001b[39;00m:\n\u001b[0;32m--> 529\u001b[0m     \u001b[39mraise\u001b[39;00m \u001b[39mFileNotFoundError\u001b[39;00m(\u001b[39mf\u001b[39m\u001b[39m\"\u001b[39m\u001b[39m{\u001b[39;00mpath\u001b[39m}\u001b[39;00m\u001b[39m not found.\u001b[39m\u001b[39m\"\u001b[39m)\n",
      "\u001b[0;31mFileNotFoundError\u001b[0m: metallicity_standard/1.lines not found."
     ]
    }
   ],
   "source": [
    "\n",
    "linelist = []\n",
    "\n",
    "model = r'metallicity_'+wavelength_type\n",
    "for i in range(4):\n",
    "    i += 1\n",
    "    line_ids, blends, wavelengths, intrinsic, emergent = cloudy23.read_lines(rf'{model}/{i}')\n",
    "    Hbeta = emergent[line_ids==reference_line][0]\n",
    "    s = (emergent > (Hbeta - contrast_stars)) & (wavelengths<max_wavelength) & (wavelengths>min_wavelength) & (blends == False)\n",
    "    print(i, np.sum(s))\n",
    "    linelist += list(line_ids[s])\n",
    "\n"
   ]
  },
  {
   "attachments": {},
   "cell_type": "markdown",
   "metadata": {},
   "source": [
    "### AGN models\n",
    "\n",
    "Read in AGN model line lists and identify lines above the threshold."
   ]
  },
  {
   "cell_type": "code",
   "execution_count": null,
   "metadata": {},
   "outputs": [],
   "source": [
    "\n",
    "model = r'relagn_'+wavelength_type\n",
    "\n",
    "for i in range(3):\n",
    "    i += 1\n",
    "    line_ids, blends, wavelengths, intrinsic, emergent = cloudy23.read_lines(rf'{model}/{i}')\n",
    "    Hbeta = emergent[line_ids==reference_line][0]\n",
    "    s = (emergent > (Hbeta - contrast_agn)) & (wavelengths<max_wavelength) & (wavelengths>min_wavelength) & (blends == False)\n",
    "    print(i, np.sum(s))\n",
    "    linelist += list(line_ids[s])\n"
   ]
  },
  {
   "cell_type": "code",
   "execution_count": null,
   "metadata": {},
   "outputs": [],
   "source": [
    "linelist = list(set(linelist))\n",
    "linelist.sort()\n",
    "\n",
    "# print(linelist)\n",
    "print(len(linelist))\n",
    "\n",
    "linelist_ = []\n",
    "\n",
    "for line in linelist:\n",
    "\n",
    "    element, ion, wavelength = line.split(' ')\n",
    "\n",
    "    if len(ion)==1:\n",
    "\n",
    "        line_ = f'{element} {ion} {wavelength}'\n",
    "        print(line_)\n",
    "        linelist_.append(line_)\n",
    "\n",
    "\n",
    "with open(f'linelist-{wavelength_type}.dat', 'w') as file:\n",
    "    file.writelines('\\n'.join(linelist_) + '\\n')"
   ]
  },
  {
   "attachments": {},
   "cell_type": "markdown",
   "metadata": {},
   "source": [
    "## Convert between standard and vacuum wavelengths"
   ]
  },
  {
   "cell_type": "code",
   "execution_count": null,
   "metadata": {},
   "outputs": [],
   "source": [
    "def vacuum_to_air(wave):\n",
    "\n",
    "    wave2 = wave**2.0\n",
    "\n",
    "    fact = 1.0 + 2.735182e-4 + 131.4182 / wave2 + 2.76249e8 / (wave2**2.0)\n",
    "\n",
    "    fact = fact * (wave >= 2000.0) + 1.0 * (wave < 2000.0)\n",
    "\n",
    "    wave = wave / fact\n",
    "\n",
    "    return wave\n",
    "\n",
    "def air_to_vacuum(wave):\n",
    "\n",
    "    sigma2 = (1.0e4 / wave) ** 2.0  # Convert to wavenumber squared\n",
    "\n",
    "    # Compute conversion factor\n",
    "\n",
    "    fact = 1.0 + 6.4328e-5 + 2.94981e-2 / (146.0 - sigma2) + 2.5540e-4 / (41.0 - sigma2)\n",
    "\n",
    "    fact = fact * (wave >= 2000.0) + 1.0 * (wave < 2000.0)\n",
    "\n",
    "    wave = wave * fact  # Convert Wavelength\n",
    "\n",
    "    return wave\n",
    "\n",
    "\n",
    "air_to_vacuum(vacuum_to_air(4365.))"
   ]
  },
  {
   "cell_type": "code",
   "execution_count": null,
   "metadata": {},
   "outputs": [],
   "source": [
    "\n",
    "# check this works correctly\n",
    "\n",
    "standard = open('linelist-standard.dat', 'r').readlines()\n",
    "vacuum = open('linelist-vacuum.dat', 'r').readlines()\n",
    "\n",
    "print(standard)\n",
    "\n",
    "for standard_, vacuum_ in zip(standard, vacuum):\n",
    "\n",
    "    # remove escape character\n",
    "    standard_ = standard_[:-1] \n",
    "    vacuum_ = vacuum_[:-1] \n",
    "\n",
    "    element, ion, wavelength = standard_.split(' ')\n",
    "\n",
    "    wavelength_ = float(wavelength[:-1])\n",
    "    wavelength_unit = wavelength[-1]\n",
    "\n",
    "    # convert to vacuum\n",
    "    new_vacuum = f'{element} {ion} {air_to_vacuum(wavelength_):.6g}{wavelength_unit}'\n",
    "\n",
    "    print(standard_, wavelength_, wavelength_unit, '|', new_vacuum, '|', vacuum_)"
   ]
  }
 ],
 "metadata": {
  "kernelspec": {
   "display_name": "venv",
   "language": "python",
   "name": "python3"
  },
  "language_info": {
   "codemirror_mode": {
    "name": "ipython",
    "version": 3
   },
   "file_extension": ".py",
   "mimetype": "text/x-python",
   "name": "python",
   "nbconvert_exporter": "python",
   "pygments_lexer": "ipython3",
   "version": "3.10.11"
  },
  "orig_nbformat": 4,
  "vscode": {
   "interpreter": {
    "hash": "524fbef3bf4e4de2693965b677d6583b49ff9cfd1d7f372eba34dde8705b1f0a"
   }
  }
 },
 "nbformat": 4,
 "nbformat_minor": 2
}
