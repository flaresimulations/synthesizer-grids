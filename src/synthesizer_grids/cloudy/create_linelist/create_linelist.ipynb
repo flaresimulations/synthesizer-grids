{
 "cells": [
  {
   "attachments": {},
   "cell_type": "markdown",
   "metadata": {},
   "source": [
    "# Linelist generator\n",
    "\n",
    "This is a simple notebook to generate a reduced linelist for use by `cloudy` in the grid creation process. This works by analysing various cloudy models including stellar and AGN models at different metallicity and then combining the line lists where lines are bright enough in at least one model."
   ]
  },
  {
   "cell_type": "code",
   "execution_count": null,
   "metadata": {},
   "outputs": [],
   "source": [
    "import numpy as np\n",
    "from synthesizer.photoionisation import cloudy23"
   ]
  },
  {
   "cell_type": "code",
   "execution_count": null,
   "metadata": {},
   "outputs": [],
   "source": [
    "# define the wavelength type, either standard or just using vacuum wavelengths.\n",
    "wavelength_type = 'standard'\n",
    "# wavelength_type = 'vacuum'\n",
    "\n",
    "# define the reference line to use, by default here we use Hbeta\n",
    "if wavelength_type == 'standard':\n",
    "    reference_line = 'H 1 4861.32A'\n",
    "if wavelength_type == 'vacuum':\n",
    "    reference_line = 'H 1 4862.69A'\n",
    "\n",
    "# log constrast relative to Hbeta to consider, i.e. only include lines which are within this value of the reference line.\n",
    "contrast_stars = 1.5\n",
    "contrast_agn = 1.0\n",
    "\n",
    "# minimum wavelength of lines to consider\n",
    "min_wavelength = 1000\n",
    "\n",
    "# maximum wavelength of lines to consider\n",
    "max_wavelength = 25000"
   ]
  },
  {
   "attachments": {},
   "cell_type": "markdown",
   "metadata": {},
   "source": [
    "### Stellar models\n",
    "\n",
    "Read in AGN model line lists and identify lines above the threshold."
   ]
  },
  {
   "cell_type": "code",
   "execution_count": null,
   "metadata": {},
   "outputs": [],
   "source": [
    "\n",
    "linelist = []\n",
    "\n",
    "model = r'metallicity_'+wavelength_type\n",
    "for i in range(4):\n",
    "    i += 1\n",
    "    line_ids, blends, wavelengths, intrinsic, emergent = cloudy23.read_lines(rf'{model}/{i}')\n",
    "    Hbeta = emergent[line_ids==reference_line][0]\n",
    "    s = (emergent > (Hbeta - contrast_stars)) & (wavelengths<max_wavelength) & (wavelengths>min_wavelength) & (blends == False)\n",
    "    print(i, np.sum(s))\n",
    "    linelist += list(line_ids[s])\n",
    "\n"
   ]
  },
  {
   "attachments": {},
   "cell_type": "markdown",
   "metadata": {},
   "source": [
    "### AGN models\n",
    "\n",
    "Read in AGN model line lists and identify lines above the threshold."
   ]
  },
  {
   "cell_type": "code",
   "execution_count": null,
   "metadata": {},
   "outputs": [],
   "source": [
    "\n",
    "model = r'relagn_'+wavelength_type\n",
    "\n",
    "for i in range(3):\n",
    "    i += 1\n",
    "    line_ids, blends, wavelengths, intrinsic, emergent = cloudy23.read_lines(rf'{model}/{i}')\n",
    "    Hbeta = emergent[line_ids==reference_line][0]\n",
    "    s = (emergent > (Hbeta - contrast_agn)) & (wavelengths<max_wavelength) & (wavelengths>min_wavelength) & (blends == False)\n",
    "    print(i, np.sum(s))\n",
    "    linelist += list(line_ids[s])\n"
   ]
  },
  {
   "cell_type": "code",
   "execution_count": null,
   "metadata": {},
   "outputs": [],
   "source": [
    "linelist = list(set(linelist))\n",
    "linelist.sort()\n",
    "\n",
    "# print(linelist)\n",
    "print(len(linelist))\n",
    "\n",
    "linelist_ = []\n",
    "\n",
    "for line in linelist:\n",
    "\n",
    "    element, ion, wavelength = line.split(' ')\n",
    "\n",
    "    if len(ion)==1:\n",
    "\n",
    "        line_ = f'{element} {ion} {wavelength}'\n",
    "        print(line_)\n",
    "        linelist_.append(line_)\n",
    "\n",
    "\n",
    "with open(f'linelist-{wavelength_type}.dat', 'w') as file:\n",
    "    file.writelines('\\n'.join(linelist_) + '\\n')"
   ]
  },
  {
   "attachments": {},
   "cell_type": "markdown",
   "metadata": {},
   "source": [
    "## Convert between standard and vacuum wavelengths"
   ]
  },
  {
   "cell_type": "code",
   "execution_count": null,
   "metadata": {},
   "outputs": [],
   "source": [
    "def vacuum_to_air(wave):\n",
    "\n",
    "    wave2 = wave**2.0\n",
    "\n",
    "    fact = 1.0 + 2.735182e-4 + 131.4182 / wave2 + 2.76249e8 / (wave2**2.0)\n",
    "\n",
    "    fact = fact * (wave >= 2000.0) + 1.0 * (wave < 2000.0)\n",
    "\n",
    "    wave = wave / fact\n",
    "\n",
    "    return wave\n",
    "\n",
    "def air_to_vacuum(wave):\n",
    "\n",
    "    sigma2 = (1.0e4 / wave) ** 2.0  # Convert to wavenumber squared\n",
    "\n",
    "    # Compute conversion factor\n",
    "\n",
    "    fact = 1.0 + 6.4328e-5 + 2.94981e-2 / (146.0 - sigma2) + 2.5540e-4 / (41.0 - sigma2)\n",
    "\n",
    "    fact = fact * (wave >= 2000.0) + 1.0 * (wave < 2000.0)\n",
    "\n",
    "    wave = wave * fact  # Convert Wavelength\n",
    "\n",
    "    return wave\n",
    "\n",
    "\n",
    "air_to_vacuum(vacuum_to_air(4365.))"
   ]
  },
  {
   "cell_type": "code",
   "execution_count": null,
   "metadata": {},
   "outputs": [],
   "source": [
    "\n",
    "# check this works correctly\n",
    "\n",
    "standard = open('linelist-standard.dat', 'r').readlines()\n",
    "vacuum = open('linelist-vacuum.dat', 'r').readlines()\n",
    "\n",
    "print(standard)\n",
    "\n",
    "for standard_, vacuum_ in zip(standard, vacuum):\n",
    "\n",
    "    # remove escape character\n",
    "    standard_ = standard_[:-1] \n",
    "    vacuum_ = vacuum_[:-1] \n",
    "\n",
    "    element, ion, wavelength = standard_.split(' ')\n",
    "\n",
    "    wavelength_ = float(wavelength[:-1])\n",
    "    wavelength_unit = wavelength[-1]\n",
    "\n",
    "    # convert to vacuum\n",
    "    new_vacuum = f'{element} {ion} {air_to_vacuum(wavelength_):.6g}{wavelength_unit}'\n",
    "\n",
    "    print(standard_, wavelength_, wavelength_unit, '|', new_vacuum, '|', vacuum_)"
   ]
  }
 ],
 "metadata": {
  "kernelspec": {
   "display_name": "venv",
   "language": "python",
   "name": "python3"
  },
  "language_info": {
   "codemirror_mode": {
    "name": "ipython",
    "version": 3
   },
   "file_extension": ".py",
   "mimetype": "text/x-python",
   "name": "python",
   "nbconvert_exporter": "python",
   "pygments_lexer": "ipython3",
   "version": "3.10.11"
  },
  "orig_nbformat": 4,
  "vscode": {
   "interpreter": {
    "hash": "524fbef3bf4e4de2693965b677d6583b49ff9cfd1d7f372eba34dde8705b1f0a"
   }
  }
 },
 "nbformat": 4,
 "nbformat_minor": 2
}
