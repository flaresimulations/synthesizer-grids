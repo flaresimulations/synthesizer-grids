{
 "cells": [
  {
   "attachments": {},
   "cell_type": "markdown",
   "metadata": {},
   "source": [
    "# Linelist generator\n",
    "\n",
    "This is a simple notebook to generate a linelist for use by `cloudy`."
   ]
  },
  {
   "cell_type": "code",
   "execution_count": 57,
   "metadata": {},
   "outputs": [],
   "source": [
    "import numpy as np\n",
    "from synthesizer.photoionisation import cloudy23"
   ]
  },
  {
   "cell_type": "code",
   "execution_count": 58,
   "metadata": {},
   "outputs": [],
   "source": [
    "\n",
    "wavelength_type = 'standard'\n",
    "wavelength_type = 'vacuum'\n",
    "\n",
    "# the reference line to use\n",
    "if wavelength_type == 'standard':\n",
    "    reference_line = 'H 1 4861.32A'\n",
    "if wavelength_type == 'vacuum':\n",
    "    reference_line = 'H 1 4862.69A'\n",
    "\n",
    "# log constrast relative to Hbeta to consider\n",
    "contrast_stars = 1.0\n",
    "contrast_agn = 1.0\n",
    "\n",
    "# minimum wavelength of lines to consider\n",
    "min_wavelength = 1000\n",
    "\n",
    "# maximum wavelength of lines to consider\n",
    "max_wavelength = 25000"
   ]
  },
  {
   "attachments": {},
   "cell_type": "markdown",
   "metadata": {},
   "source": [
    "### Stellar models"
   ]
  },
  {
   "cell_type": "code",
   "execution_count": 59,
   "metadata": {},
   "outputs": [
    {
     "name": "stdout",
     "output_type": "stream",
     "text": [
      "1 34\n",
      "2 30\n",
      "3 15\n",
      "4 9\n"
     ]
    }
   ],
   "source": [
    "\n",
    "linelist = []\n",
    "\n",
    "model = r'metallicity_'+wavelength_type\n",
    "for i in range(4):\n",
    "    i += 1\n",
    "    line_ids, blends, wavelengths, intrinsic, emergent = cloudy23.read_lines(rf'{model}/{i}')\n",
    "    Hbeta = emergent[line_ids==reference_line][0]\n",
    "    s = (emergent > (Hbeta - contrast_stars)) & (wavelengths<max_wavelength) & (wavelengths>min_wavelength) & (blends == False)\n",
    "    print(i, np.sum(s))\n",
    "    linelist += list(line_ids[s])\n",
    "\n"
   ]
  },
  {
   "attachments": {},
   "cell_type": "markdown",
   "metadata": {},
   "source": [
    "### AGN models"
   ]
  },
  {
   "cell_type": "code",
   "execution_count": 60,
   "metadata": {},
   "outputs": [],
   "source": [
    "\n",
    "# model = r'relagn_'+wavelength_type\n",
    "\n",
    "# for i in range(3):\n",
    "#     i += 1\n",
    "#     line_ids, blends, wavelengths, intrinsic, emergent = cloudy23.read_lines(rf'{model}/{i}')\n",
    "#     Hbeta = emergent[line_ids==reference_line][0]\n",
    "#     s = (emergent > (Hbeta - contrast_agn)) & (wavelengths<max_wavelength) & (wavelengths>min_wavelength) & (blends == False)\n",
    "#     print(i, np.sum(s))\n",
    "#     linelist += list(line_ids[s])\n"
   ]
  },
  {
   "cell_type": "code",
   "execution_count": 61,
   "metadata": {},
   "outputs": [
    {
     "name": "stdout",
     "output_type": "stream",
     "text": [
      "39\n",
      "Ar 3 7137.76A\n",
      "C 3 1906.68A\n",
      "C 3 1908.73A\n",
      "C 4 1548.19A\n",
      "C 4 1550.78A\n",
      "Fe 2 1.25702m\n",
      "Fe 2 1.64400m\n",
      "Fe 4 2836.57A\n",
      "Fe 4 3095.86A\n",
      "H 1 1.09410m\n",
      "H 1 1.28215m\n",
      "H 1 1.87561m\n",
      "H 1 1215.67A\n",
      "H 1 3890.15A\n",
      "H 1 3971.19A\n",
      "H 1 4102.89A\n",
      "H 1 4341.68A\n",
      "H 1 4862.69A\n",
      "H 1 6564.62A\n",
      "He 1 1.08332m\n",
      "He 1 3889.74A\n",
      "He 1 5877.26A\n",
      "Mg 2 2796.35A\n",
      "Mg 2 2803.53A\n",
      "N 2 6549.86A\n",
      "N 2 6585.27A\n",
      "Ne 3 3869.86A\n",
      "Ne 3 3968.59A\n",
      "O 2 3727.09A\n",
      "O 2 3729.88A\n",
      "O 3 1666.15A\n",
      "O 3 4960.29A\n",
      "O 3 5008.24A\n",
      "S 2 6718.29A\n",
      "S 2 6732.67A\n",
      "S 3 9071.11A\n",
      "S 3 9533.23A\n",
      "Si 3 1882.71A\n",
      "Si 3 1892.03A\n"
     ]
    }
   ],
   "source": [
    "linelist = list(set(linelist))\n",
    "linelist.sort()\n",
    "\n",
    "# print(linelist)\n",
    "print(len(linelist))\n",
    "\n",
    "linelist_ = []\n",
    "\n",
    "for line in linelist:\n",
    "\n",
    "    element, ion, wavelength = line.split(' ')\n",
    "\n",
    "    if len(ion)==1:\n",
    "\n",
    "        line_ = f'{element} {ion} {wavelength}'\n",
    "        print(line_)\n",
    "        linelist_.append(line_)\n",
    "\n",
    "\n",
    "with open(f'linelist-{wavelength_type}.dat', 'w') as file:\n",
    "    file.writelines('\\n'.join(linelist_) + '\\n')"
   ]
  }
 ],
 "metadata": {
  "kernelspec": {
   "display_name": "venv",
   "language": "python",
   "name": "python3"
  },
  "language_info": {
   "codemirror_mode": {
    "name": "ipython",
    "version": 3
   },
   "file_extension": ".py",
   "mimetype": "text/x-python",
   "name": "python",
   "nbconvert_exporter": "python",
   "pygments_lexer": "ipython3",
   "version": "3.10.11"
  },
  "orig_nbformat": 4,
  "vscode": {
   "interpreter": {
    "hash": "93002983ca460f516fa2d65bf0982bace8e17cdc5abc48aba510da547952d210"
   }
  }
 },
 "nbformat": 4,
 "nbformat_minor": 2
}
