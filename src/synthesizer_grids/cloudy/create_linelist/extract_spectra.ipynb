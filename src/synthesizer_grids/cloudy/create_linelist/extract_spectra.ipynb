{
 "cells": [
  {
   "attachments": {},
   "cell_type": "markdown",
   "metadata": {},
   "source": [
    "## Extract spectra for use in ad hoc cloudy run\n",
    "\n",
    "This code specifies a stellar and AGN spectra to extract for use by cloudy runs."
   ]
  },
  {
   "cell_type": "code",
   "execution_count": null,
   "metadata": {},
   "outputs": [],
   "source": [
    "from synthesizer.grid import Grid\n",
    "from unyt import Msun, h, c\n",
    "import numpy as np\n",
    "from matplotlib import pyplot as plt\n",
    "import copy"
   ]
  },
  {
   "cell_type": "code",
   "execution_count": null,
   "metadata": {},
   "outputs": [],
   "source": [
    "# The path to the grid \n",
    "grid_dir = \"/Users/sw376/Dropbox/Research/data/synthesizer/grids/\""
   ]
  },
  {
   "attachments": {},
   "cell_type": "markdown",
   "metadata": {},
   "source": [
    "#### Stellar"
   ]
  },
  {
   "cell_type": "code",
   "execution_count": null,
   "metadata": {},
   "outputs": [],
   "source": [
    "# Define the SPS grid to used\n",
    "sps_model = 'bpass-2.2.1-bin_chabrier03-0.1,300.0'\n",
    "\n",
    "# Initialise the grid\n",
    "grid = Grid(\n",
    "    grid_name=sps_model, \n",
    "    grid_dir=grid_dir,\n",
    "    read_lines=False)\n",
    "\n",
    "# Define the values for the grid point we want\n",
    "log10age = 6.\n",
    "metallicity = 0.001\n",
    "\n",
    "# Find the nearest grid point to these values\n",
    "grid_point = grid.get_grid_point(log10ages=log10age, log10metallicities=metallicity)"
   ]
  },
  {
   "cell_type": "code",
   "execution_count": null,
   "metadata": {},
   "outputs": [],
   "source": [
    "\n",
    "# extract the sed into a synthesizer Sed object\n",
    "sed = grid.get_spectra(grid_point, spectra_id='incident')\n",
    "\n",
    "# plot the sec\n",
    "plt.loglog(sed.lam.to('Angstrom').value, sed.lnu)\n",
    "plt.show()"
   ]
  },
  {
   "cell_type": "code",
   "execution_count": null,
   "metadata": {},
   "outputs": [],
   "source": [
    "# define frequency\n",
    "nu = c / sed.lam\n",
    "\n",
    "# define energy\n",
    "E = h * nu\n",
    "\n",
    "# extract the luminosity\n",
    "lnu = sed.lnu\n",
    "\n",
    "# set zero values to very small value\n",
    "lnu[lnu==0.0] = 1E-100\n",
    "\n",
    "# save tabulated spectrum for use in cloudy\n",
    "np.savetxt('stellar_standard/1.sed', np.array([ E.to(\"Ry\").value[::-1], lnu.to('erg/s/Hz').value[::-1]]).T)\n",
    "np.savetxt('stellar_vacuum/1.sed', np.array([ E.to(\"Ry\").value[::-1], lnu.to('erg/s/Hz').value[::-1]]).T)"
   ]
  },
  {
   "cell_type": "code",
   "execution_count": null,
   "metadata": {},
   "outputs": [],
   "source": [
    "\n",
    "# various plot of the spectrum \n",
    "\n",
    "# plt.loglog(E.to(\"Ry\").value[::-1], sed.lnu.to('erg/s/Hz').value[::-1])\n",
    "# plt.show()\n",
    "\n",
    "plt.loglog(E.to(\"eV\").value[::-1], sed.lnu.to('erg/s/Hz').value[::-1])\n",
    "plt.show()\n",
    "\n",
    "# plt.loglog(sed.lam.to(\"Angstrom\").value, sed.lnu.to('erg/s/Hz').value)\n",
    "# plt.show()"
   ]
  },
  {
   "attachments": {},
   "cell_type": "markdown",
   "metadata": {},
   "source": [
    "#### AGN"
   ]
  },
  {
   "cell_type": "code",
   "execution_count": null,
   "metadata": {},
   "outputs": [],
   "source": [
    "# Define the disc model grid to use\n",
    "disc_model = 'agnsed-limited'\n",
    "\n",
    "# Initialise the grid\n",
    "grid = Grid(\n",
    "    grid_name=disc_model, \n",
    "    grid_dir=grid_dir,\n",
    "    read_lines=False)"
   ]
  },
  {
   "cell_type": "code",
   "execution_count": null,
   "metadata": {},
   "outputs": [],
   "source": [
    "\n",
    "# Define the values of the grid point we're interested in\n",
    "mass = (1e8*Msun).to('kg').value\n",
    "accretion_rate_eddington = 0.0\n",
    "cosine_inclination = 0.5\n",
    "\n",
    "# Get grid point\n",
    "grid_point = grid.get_grid_point(\n",
    "    mass=mass,  \n",
    "    accretion_rate_eddington=accretion_rate_eddington,  \n",
    "    cosine_inclination=cosine_inclination)\n",
    "\n",
    "print(grid_point)"
   ]
  },
  {
   "cell_type": "code",
   "execution_count": null,
   "metadata": {},
   "outputs": [],
   "source": [
    "sed = grid.get_spectra(grid_point, spectra_id='incident')\n",
    "\n",
    "plt.loglog(sed.lam.to('Angstrom').value, sed.lnu)\n",
    "plt.show()"
   ]
  },
  {
   "cell_type": "code",
   "execution_count": null,
   "metadata": {},
   "outputs": [],
   "source": [
    "# define frequency\n",
    "nu = c / sed.lam\n",
    "\n",
    "# define energy\n",
    "E = h * nu\n",
    "\n",
    "\n",
    "lnu = sed.lnu\n",
    "\n",
    "lnu[lnu==0.0] = 1E-100\n",
    "\n",
    "# save tabulated spectrum\n",
    "np.savetxt('agn_standard/1.sed', np.array([ E.to(\"Ry\").value[::-1], lnu.to('erg/s/Hz').value[::-1]]).T)\n",
    "np.savetxt('agn_vacuum/1.sed', np.array([ E.to(\"Ry\").value[::-1], lnu.to('erg/s/Hz').value[::-1]]).T)\n",
    "\n",
    "plt.loglog(E.to(\"eV\").value[::-1], sed.lnu.to('erg/s/Hz').value[::-1])\n",
    "plt.show()\n"
   ]
  }
 ],
 "metadata": {
  "kernelspec": {
   "display_name": "venv",
   "language": "python",
   "name": "python3"
  },
  "language_info": {
   "codemirror_mode": {
    "name": "ipython",
    "version": 3
   },
   "file_extension": ".py",
   "mimetype": "text/x-python",
   "name": "python",
   "nbconvert_exporter": "python",
   "pygments_lexer": "ipython3",
   "version": "3.10.11"
  },
  "orig_nbformat": 4,
  "vscode": {
   "interpreter": {
    "hash": "524fbef3bf4e4de2693965b677d6583b49ff9cfd1d7f372eba34dde8705b1f0a"
   }
  }
 },
 "nbformat": 4,
 "nbformat_minor": 2
}
